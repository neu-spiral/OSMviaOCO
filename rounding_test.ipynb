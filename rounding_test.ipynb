{
 "cells": [
  {
   "cell_type": "code",
   "execution_count": 1,
   "id": "a2820fcd-2b5c-4976-90b2-4ca58fd23270",
   "metadata": {},
   "outputs": [],
   "source": [
    "import numpy as np"
   ]
  },
  {
   "cell_type": "code",
   "execution_count": 2,
   "id": "2f2d8a35-2626-44bf-8729-72c98bcf3016",
   "metadata": {},
   "outputs": [],
   "source": [
    "def simplify(a, b):\n",
    "    if a + b <= 1:\n",
    "        c = np.random.choice([0, 1], p=[a / (a + b), b / (a + b)])\n",
    "        return [a + b, 0] if c == 0 else [0, a + b]\n",
    "    elif 1 < a + b < 2:\n",
    "        c = np.random.choice([0, 1], p=[(1 - b) / (2 - a - b), (1 - a) / (2 - a - b)])\n",
    "        return [1, a + b - 1] if c == 0 else [a + b - 1, 1]\n",
    "def depround(x):\n",
    "    while (True):\n",
    "        not_rounded = np.where(np.logical_and(x < 1, x > 0))[0]\n",
    "        if len(not_rounded) == 0:\n",
    "            break\n",
    "        print(not_rounded, x)\n",
    "        i, j = not_rounded[:2]\n",
    "        x[i], x[j] = simplify(x[i], x[j])\n",
    "    return x\n",
    "def partition_matroid_round(x, sets_S):\n",
    "    for S in sets_S:\n",
    "        x[S] = depround(x[S])\n",
    "    return x"
   ]
  },
  {
   "cell_type": "code",
   "execution_count": 5,
   "id": "2cca09a9-7537-4a45-88de-007430abd532",
   "metadata": {},
   "outputs": [
    {
     "name": "stdout",
     "output_type": "stream",
     "text": [
      "[0 1 4 5] [0.3 0.2 1.  0.  0.3 0.2]\n",
      "[0 4 5] [0.5 0.  1.  0.  0.3 0.2]\n",
      "[0 5] [0.8 0.  1.  0.  0.  0.2]\n"
     ]
    },
    {
     "data": {
      "text/plain": [
       "array([0., 0., 1., 0., 0., 1.])"
      ]
     },
     "execution_count": 5,
     "metadata": {},
     "output_type": "execute_result"
    }
   ],
   "source": [
    "x = np.array([.3, .2, 1, 0, .3, .2])\n",
    "partition_matroid_round(x, [list(range(x.size))])"
   ]
  },
  {
   "cell_type": "code",
   "execution_count": null,
   "id": "61e91afa-aadc-4e1b-a41a-c688588450a2",
   "metadata": {},
   "outputs": [],
   "source": []
  }
 ],
 "metadata": {
  "kernelspec": {
   "display_name": "Python 3 (ipykernel)",
   "language": "python",
   "name": "python3"
  },
  "language_info": {
   "codemirror_mode": {
    "name": "ipython",
    "version": 3
   },
   "file_extension": ".py",
   "mimetype": "text/x-python",
   "name": "python",
   "nbconvert_exporter": "python",
   "pygments_lexer": "ipython3",
   "version": "3.7.13"
  }
 },
 "nbformat": 4,
 "nbformat_minor": 5
}
